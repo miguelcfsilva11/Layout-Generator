{
 "cells": [
  {
   "cell_type": "code",
   "execution_count": null,
   "metadata": {},
   "outputs": [],
   "source": [
    "import cv2\n",
    "import os\n",
    "import numpy as np\n",
    "import shutil\n",
    "\n",
    "def extract_tiles(path, skip_row, skip_col, end_row):\n",
    "\n",
    "    image_path = path\n",
    "    tileset = cv2.imread(image_path, cv2.IMREAD_UNCHANGED)\n",
    "\n",
    "    tile_width  = 16 \n",
    "    tile_height = 16\n",
    "\n",
    "    rows = tileset.shape[0] // tile_height\n",
    "    cols = tileset.shape[1] // tile_width\n",
    "\n",
    "    output_dir = \"../data/tiles/\"\n",
    "    os.makedirs(output_dir, exist_ok=True)\n",
    "\n",
    "    for row in range(skip_row, rows - end_row):\n",
    "        for col in range(skip_col, cols):\n",
    "            x, y      = col * tile_width, row * tile_height\n",
    "            tile      = tileset[y:y+tile_height, x:x+tile_width]\n",
    "            \n",
    "            if tile.shape[2] == 4:  \n",
    "                if np.all(tile[:, :, 3] == 0):\n",
    "                    continue\n",
    "            elif tile.shape[2] == 3:\n",
    "                if np.all(tile == [0, 0, 0]): \n",
    "                    continue\n",
    "\n",
    "\n",
    "            tile_path = os.path.join(output_dir, f\"tile_{row}_{col}.png\")\n",
    "            cv2.imwrite(tile_path, tile)\n",
    "\n",
    "    print(f\"Extracted {rows * cols} tiles and saved them in {output_dir}\")\n"
   ]
  },
  {
   "cell_type": "code",
   "execution_count": null,
   "metadata": {},
   "outputs": [],
   "source": [
    "shutil.rmtree(output_dir)\n",
    "extract_tiles( \"../data/images/The Overworld 1-3.png\", 1, 0, 0)\n",
    "extract_tiles(\"../data/images/The Roguelike 1-14-8 Alpha.png\", 3, 4, 25)"
   ]
  }
 ],
 "metadata": {
  "kernelspec": {
   "display_name": "Python 3",
   "language": "python",
   "name": "python3"
  },
  "language_info": {
   "codemirror_mode": {
    "name": "ipython",
    "version": 3
   },
   "file_extension": ".py",
   "mimetype": "text/x-python",
   "name": "python",
   "nbconvert_exporter": "python",
   "pygments_lexer": "ipython3",
   "version": "3.10.16"
  }
 },
 "nbformat": 4,
 "nbformat_minor": 2
}
