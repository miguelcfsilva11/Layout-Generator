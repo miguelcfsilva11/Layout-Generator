{
 "cells": [
  {
   "cell_type": "code",
   "execution_count": null,
   "metadata": {},
   "outputs": [],
   "source": [
    "import requests\n",
    "from bs4 import BeautifulSoup\n",
    "import os\n",
    "import shutil\n",
    "from urllib.parse import urljoin, urlparse, parse_qs\n",
    "\n",
    "urls = {\n",
    "\n",
    "    \"Wood\"   : \"https://www.czepeku.com/fantasy/maps/search/clearing+forest+jungle+swamp+tree\",\n",
    "    \"Pasture\": \"https://www.czepeku.com/fantasy/maps/search/farm+garden+meadow\",\n",
    "    \"Volcano\": \"https://www.czepeku.com/fantasy/maps/search/fire+infernal+lava+volcano\",\n",
    "    \"Snow\"   : \"https://www.czepeku.com/fantasy/maps/search/frozen+snow\",\n",
    "    \"City\"   : \"https://www.czepeku.com/fantasy/maps/search/camp+fortification+market+urban+village\"\n",
    "}\n",
    "\n",
    "\n",
    "def get_images_url(url, key):\n",
    "\n",
    "    page   = requests.get(url)\n",
    "    soup   = BeautifulSoup(page.content, 'html.parser')\n",
    "    images = soup.find_all('img')\n",
    "\n",
    "    os.makedirs(f'../data/images/{key}', exist_ok=True)\n",
    "    counter = 1\n",
    "\n",
    "    for image in images:\n",
    "\n",
    "        relative_url  = image.get('src')\n",
    "        absolute_url  = urljoin(url, relative_url)\n",
    "        parsed_url    = urlparse(absolute_url)\n",
    "        query_params  = parse_qs(parsed_url.query)\n",
    "        image_name    = f'image_{counter - 3}.jpg'\n",
    "        counter      += 1\n",
    "        image_path    = os.path.join(f'../data/images/{key}', image_name)\n",
    "        response      = requests.get(absolute_url)\n",
    "        \n",
    "        if counter <= 4:\n",
    "            continue\n",
    "\n",
    "        if response.status_code == 200:\n",
    "            with open(image_path, 'wb') as f:\n",
    "                f.write(response.content)\n",
    "        \n",
    "    print('Done')\n"
   ]
  },
  {
   "cell_type": "code",
   "execution_count": null,
   "metadata": {},
   "outputs": [],
   "source": [
    "\n",
    "target_dir = '../data/images'\n",
    "\n",
    "if os.path.exists(target_dir):\n",
    "    shutil.rmtree(target_dir)\n",
    "\n",
    "for key in urls:\n",
    "    get_images_url(urls[key], key)"
   ]
  },
  {
   "cell_type": "code",
   "execution_count": null,
   "metadata": {},
   "outputs": [],
   "source": [
    "import os\n",
    "from PIL import Image\n",
    "\n",
    "def resize_images_in_folder(root_folder, target_size=(1024, 1024)):\n",
    "    for dirpath, dirnames, filenames in os.walk(root_folder):\n",
    "        for filename in filenames:\n",
    "            if filename.lower().endswith(('.png', '.jpg', '.jpeg', '.bmp', '.gif')):\n",
    "                file_path = os.path.join(dirpath, filename)\n",
    "                try:\n",
    "                    with Image.open(file_path) as img:\n",
    "                        img_resized = img.resize(target_size)\n",
    "                        img_resized.save(file_path)\n",
    "                        print(f\"Resized: {file_path}\")\n",
    "                except Exception as e:\n",
    "                    print(f\"Failed to resize {file_path}: {e}\")\n",
    "\n",
    "resize_images_in_folder('../../data/images/')\n"
   ]
  }
 ],
 "metadata": {
  "kernelspec": {
   "display_name": "Python 3",
   "language": "python",
   "name": "python3"
  },
  "language_info": {
   "codemirror_mode": {
    "name": "ipython",
    "version": 3
   },
   "file_extension": ".py",
   "mimetype": "text/x-python",
   "name": "python",
   "nbconvert_exporter": "python",
   "pygments_lexer": "ipython3",
   "version": "3.10.16"
  }
 },
 "nbformat": 4,
 "nbformat_minor": 2
}
